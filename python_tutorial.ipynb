{
 "cells": [
  {
   "cell_type": "markdown",
   "metadata": {},
   "source": [
    "**<center><font size=6>CS490: Machine Learning</font><br><font size=5>Jupyter and Python Tutorial</font></center>**\n",
    "\n",
    "<hr>"
   ]
  },
  {
   "cell_type": "markdown",
   "metadata": {},
   "source": [
    "# Simple iPython notebook session"
   ]
  },
  {
   "cell_type": "markdown",
   "metadata": {},
   "source": [
    "### Running a cell\n",
    "A cell is a block of code. Click the cell below and press the \"play\" button above or type Shift+Enter. The code will run, print output, and then advance to the next cell. Type Ctrl+Enter to run but not advance."
   ]
  },
  {
   "cell_type": "code",
   "execution_count": 8,
   "metadata": {},
   "outputs": [
    {
     "name": "stdout",
     "output_type": "stream",
     "text": [
      "10\n"
     ]
    }
   ],
   "source": [
    "x = 5\n",
    "x = 2*x\n",
    "print(x)"
   ]
  },
  {
   "cell_type": "markdown",
   "metadata": {},
   "source": [
    "### Running code in another file\n",
    "Create a file in the same directory called ``hello.py`` with this line\n",
    "\n",
    "```python\n",
    "print(\"hello world\")\n",
    "```\n",
    "\n",
    "Now you can run it from Jupyter:"
   ]
  },
  {
   "cell_type": "code",
   "execution_count": 1,
   "metadata": {
    "scrolled": true
   },
   "outputs": [
    {
     "name": "stdout",
     "output_type": "stream",
     "text": [
      "hello world\n"
     ]
    }
   ],
   "source": [
    "%run hello.py"
   ]
  },
  {
   "cell_type": "markdown",
   "metadata": {},
   "source": [
    "<hr>\n",
    "\n",
    "# Python Basics\n",
    "\n",
    "## Basic Data Types"
   ]
  },
  {
   "cell_type": "markdown",
   "metadata": {},
   "source": [
    "### Numerical and Logical Types"
   ]
  },
  {
   "cell_type": "code",
   "execution_count": 6,
   "metadata": {},
   "outputs": [
    {
     "name": "stdout",
     "output_type": "stream",
     "text": [
      "1: X 5\n",
      "2: X= 5.0\n",
      "3: X= True\n",
      "4: X= 500000000000000000000000000000000000000000000000000000000000000\n"
     ]
    }
   ],
   "source": [
    "X=5 #Set X to integer object equal to 5\n",
    "print(\"1: X\",X)\n",
    "\n",
    "X=5.0 #Set X to float object equal to 5.0\n",
    "print(\"2: X=\",X)\n",
    "\n",
    "X=True #Set X to boolean True\n",
    "print(\"3: X=\",X)\n",
    "\n",
    "X=500000000000000000000000000000000000000000000000000000000000000 # Python 3 integers have arbitrary precision\n",
    "print(\"4: X=\",X)"
   ]
  },
  {
   "cell_type": "markdown",
   "metadata": {},
   "source": [
    "### Strings"
   ]
  },
  {
   "cell_type": "code",
   "execution_count": 7,
   "metadata": {},
   "outputs": [
    {
     "name": "stdout",
     "output_type": "stream",
     "text": [
      "This is a string\n"
     ]
    }
   ],
   "source": [
    "X=\"This is a string\" #Set X to a string object defined using double quotes\n",
    "print(X)"
   ]
  },
  {
   "cell_type": "code",
   "execution_count": 8,
   "metadata": {},
   "outputs": [
    {
     "name": "stdout",
     "output_type": "stream",
     "text": [
      "So is this!\n"
     ]
    }
   ],
   "source": [
    "Y='So is this!' #Set X to a string object defined using single quotes\n",
    "print(Y)"
   ]
  },
  {
   "cell_type": "code",
   "execution_count": 9,
   "metadata": {},
   "outputs": [
    {
     "name": "stdout",
     "output_type": "stream",
     "text": [
      "T\n"
     ]
    }
   ],
   "source": [
    "print(X[0])"
   ]
  },
  {
   "cell_type": "code",
   "execution_count": 10,
   "metadata": {},
   "outputs": [
    {
     "name": "stdout",
     "output_type": "stream",
     "text": [
      "This \n"
     ]
    }
   ],
   "source": [
    "print(X[0:5] )"
   ]
  },
  {
   "cell_type": "code",
   "execution_count": 11,
   "metadata": {},
   "outputs": [
    {
     "name": "stdout",
     "output_type": "stream",
     "text": [
      "['This', 'is', 'a', 'string']\n"
     ]
    }
   ],
   "source": [
    "print(X.split())"
   ]
  },
  {
   "cell_type": "code",
   "execution_count": 12,
   "metadata": {},
   "outputs": [
    {
     "name": "stdout",
     "output_type": "stream",
     "text": [
      "This is a stringSo is this!\n",
      "This is a string. So is this!\n"
     ]
    }
   ],
   "source": [
    "print(X + Y)\n",
    "print(X + '. ' + Y)"
   ]
  },
  {
   "cell_type": "markdown",
   "metadata": {},
   "source": [
    "<hr>\n",
    "\n",
    "## Containers"
   ]
  },
  {
   "cell_type": "markdown",
   "metadata": {},
   "source": [
    "### Tuples"
   ]
  },
  {
   "cell_type": "code",
   "execution_count": 13,
   "metadata": {},
   "outputs": [
    {
     "name": "stdout",
     "output_type": "stream",
     "text": [
      "<class 'tuple'>\n"
     ]
    }
   ],
   "source": [
    "X = (1,2,3,4,5)            #Define tuple\n",
    "print(type(X))"
   ]
  },
  {
   "cell_type": "code",
   "execution_count": 14,
   "metadata": {},
   "outputs": [
    {
     "name": "stdout",
     "output_type": "stream",
     "text": [
      "X= (1, 2, 3, 4, 5)\n"
     ]
    }
   ],
   "source": [
    "print(\"X=\", X)           #Print the tuple "
   ]
  },
  {
   "cell_type": "code",
   "execution_count": 15,
   "metadata": {},
   "outputs": [
    {
     "name": "stdout",
     "output_type": "stream",
     "text": [
      "X[0]= 1\n"
     ]
    }
   ],
   "source": [
    "print(\"X[0]=\", X[0])     #Print the first element of the tuple"
   ]
  },
  {
   "cell_type": "code",
   "execution_count": 16,
   "metadata": {},
   "outputs": [
    {
     "name": "stdout",
     "output_type": "stream",
     "text": [
      "5\n",
      "5\n"
     ]
    }
   ],
   "source": [
    "print( X[4] )    #Print the last element of the tuple\n",
    "print( X[-1] )   #Print the last element of the tuple"
   ]
  },
  {
   "cell_type": "code",
   "execution_count": 17,
   "metadata": {},
   "outputs": [
    {
     "name": "stdout",
     "output_type": "stream",
     "text": [
      "5\n"
     ]
    }
   ],
   "source": [
    "print(len(X)) #Pring length of tuple"
   ]
  },
  {
   "cell_type": "code",
   "execution_count": 18,
   "metadata": {},
   "outputs": [
    {
     "ename": "TypeError",
     "evalue": "'tuple' object does not support item assignment",
     "output_type": "error",
     "traceback": [
      "\u001b[0;31m---------------------------------------------------------------------------\u001b[0m",
      "\u001b[0;31mTypeError\u001b[0m                                 Traceback (most recent call last)",
      "\u001b[0;32m<ipython-input-18-21595cb19964>\u001b[0m in \u001b[0;36m<module>\u001b[0;34m\u001b[0m\n\u001b[0;32m----> 1\u001b[0;31m \u001b[0mX\u001b[0m\u001b[0;34m[\u001b[0m\u001b[0;36m0\u001b[0m\u001b[0;34m]\u001b[0m\u001b[0;34m=\u001b[0m\u001b[0;36m5\u001b[0m                  \u001b[0;31m#Set element of tuple ! ERROR (tuples are immutable)\u001b[0m\u001b[0;34m\u001b[0m\u001b[0;34m\u001b[0m\u001b[0m\n\u001b[0m",
      "\u001b[0;31mTypeError\u001b[0m: 'tuple' object does not support item assignment"
     ]
    }
   ],
   "source": [
    "X[0]=5                  #Set element of tuple ! ERROR (tuples are immutable)"
   ]
  },
  {
   "cell_type": "markdown",
   "metadata": {},
   "source": [
    "### Lists"
   ]
  },
  {
   "cell_type": "code",
   "execution_count": 19,
   "metadata": {},
   "outputs": [
    {
     "name": "stdout",
     "output_type": "stream",
     "text": [
      "<class 'list'>\n"
     ]
    }
   ],
   "source": [
    "X = [1,2,3,4,5]         #Define list\n",
    "print(type(X))           #Show type of X"
   ]
  },
  {
   "cell_type": "code",
   "execution_count": 20,
   "metadata": {},
   "outputs": [
    {
     "name": "stdout",
     "output_type": "stream",
     "text": [
      "[1, 2, 3, 4, 5]\n"
     ]
    }
   ],
   "source": [
    "print(X)       #Print the list"
   ]
  },
  {
   "cell_type": "code",
   "execution_count": 21,
   "metadata": {},
   "outputs": [
    {
     "name": "stdout",
     "output_type": "stream",
     "text": [
      "1\n"
     ]
    }
   ],
   "source": [
    "print(X[0])     #Print the first element of the list"
   ]
  },
  {
   "cell_type": "code",
   "execution_count": 22,
   "metadata": {},
   "outputs": [
    {
     "name": "stdout",
     "output_type": "stream",
     "text": [
      "5\n",
      "5\n"
     ]
    }
   ],
   "source": [
    "print(X[4])\n",
    "print(X[-1])    #Print the last element of the list"
   ]
  },
  {
   "cell_type": "code",
   "execution_count": 23,
   "metadata": {},
   "outputs": [
    {
     "name": "stdout",
     "output_type": "stream",
     "text": [
      "5\n"
     ]
    }
   ],
   "source": [
    "print(len(X))"
   ]
  },
  {
   "cell_type": "code",
   "execution_count": 24,
   "metadata": {},
   "outputs": [
    {
     "name": "stdout",
     "output_type": "stream",
     "text": [
      "[5, 2, 3, 4, 5]\n"
     ]
    }
   ],
   "source": [
    "X[0] = 5                  #Change the list. \n",
    "print(X)"
   ]
  },
  {
   "cell_type": "code",
   "execution_count": 25,
   "metadata": {},
   "outputs": [
    {
     "name": "stdout",
     "output_type": "stream",
     "text": [
      "[5, 2, 3, 4, 5, 6]\n"
     ]
    }
   ],
   "source": [
    "X.append(6)          # Append *one* item to list\n",
    "print(X)"
   ]
  },
  {
   "cell_type": "code",
   "execution_count": 26,
   "metadata": {},
   "outputs": [
    {
     "name": "stdout",
     "output_type": "stream",
     "text": [
      "[1, 2, 3, 4, 5, 6, 7, 8]\n"
     ]
    }
   ],
   "source": [
    "X = [1, 2, 3, 4, 5, 6]\n",
    "X.extend([7, 8]) # add elements 7, 8 to end of X\n",
    "print(X)"
   ]
  },
  {
   "cell_type": "code",
   "execution_count": 27,
   "metadata": {},
   "outputs": [
    {
     "name": "stdout",
     "output_type": "stream",
     "text": [
      "[1, 2, 3, 4, 5, 6, 7, 8]\n",
      "[1, 2, 3, 4, 5, 6, 7, 8, 7, 8]\n"
     ]
    }
   ],
   "source": [
    "Y = X + [7,8]   # concatenate and retern a *new* list\n",
    "print(X)\n",
    "print(Y)"
   ]
  },
  {
   "cell_type": "code",
   "execution_count": 28,
   "metadata": {},
   "outputs": [
    {
     "name": "stdout",
     "output_type": "stream",
     "text": [
      "[1, 2, 3, 4, 5, 1, 2, 3, 4, 5]\n"
     ]
    }
   ],
   "source": [
    "X = [1, 2, 3, 4, 5]\n",
    "Y=X*2           # concatenate two copies of X (think: X+X)\n",
    "print(Y)"
   ]
  },
  {
   "cell_type": "markdown",
   "metadata": {},
   "source": [
    "### Dictionaries"
   ]
  },
  {
   "cell_type": "code",
   "execution_count": 29,
   "metadata": {},
   "outputs": [
    {
     "name": "stdout",
     "output_type": "stream",
     "text": [
      "type(X) <class 'dict'>\n"
     ]
    }
   ],
   "source": [
    "X = {\"Bob\": 192731, \"Mary\": 281927, \"Joe\": 103124} #Define a dictionary of key-value pairs\n",
    "print(\"type(X)\",type(X))"
   ]
  },
  {
   "cell_type": "code",
   "execution_count": 30,
   "metadata": {},
   "outputs": [
    {
     "name": "stdout",
     "output_type": "stream",
     "text": [
      "X= {'Bob': 192731, 'Mary': 281927, 'Joe': 103124}\n"
     ]
    }
   ],
   "source": [
    "print(\"X=\", X)                    #Print the dictionary"
   ]
  },
  {
   "cell_type": "code",
   "execution_count": 31,
   "metadata": {},
   "outputs": [
    {
     "name": "stdout",
     "output_type": "stream",
     "text": [
      "X[\"Joe\"]= 103124\n"
     ]
    }
   ],
   "source": [
    "print('X[\"Joe\"]=', X[\"Joe\"])      #Print the value for Joe"
   ]
  },
  {
   "cell_type": "code",
   "execution_count": 32,
   "metadata": {},
   "outputs": [
    {
     "name": "stdout",
     "output_type": "stream",
     "text": [
      "len(X) 3\n"
     ]
    }
   ],
   "source": [
    "print('len(X)', len(X))           #Print the number of items"
   ]
  },
  {
   "cell_type": "code",
   "execution_count": 33,
   "metadata": {},
   "outputs": [
    {
     "name": "stdout",
     "output_type": "stream",
     "text": [
      "X.keys()= dict_keys(['Bob', 'Mary', 'Joe'])\n"
     ]
    }
   ],
   "source": [
    "print('X.keys()=',X.keys())       #Print the list of keys"
   ]
  },
  {
   "cell_type": "code",
   "execution_count": 34,
   "metadata": {},
   "outputs": [
    {
     "name": "stdout",
     "output_type": "stream",
     "text": [
      "X.values()= dict_values([192731, 281927, 103124])\n"
     ]
    }
   ],
   "source": [
    "print('X.values()=',X.values())   #Print the list of values\n"
   ]
  },
  {
   "cell_type": "code",
   "execution_count": 35,
   "metadata": {},
   "outputs": [
    {
     "name": "stdout",
     "output_type": "stream",
     "text": [
      "X= {'Bob': 192731, 'Mary': 281927, 'Joe': 772345}\n"
     ]
    }
   ],
   "source": [
    "X[\"Joe\"]=772345                   #Change an element\n",
    "print(\"X=\", X)"
   ]
  },
  {
   "cell_type": "code",
   "execution_count": 36,
   "metadata": {},
   "outputs": [
    {
     "name": "stdout",
     "output_type": "stream",
     "text": [
      "X= {'Bob': 192731, 'Mary': 281927, 'Joe': 772345, 'Alice': 111111}\n"
     ]
    }
   ],
   "source": [
    "X[\"Alice\"]=111111                 #Add a new element\n",
    "print(\"X=\", X) "
   ]
  },
  {
   "cell_type": "markdown",
   "metadata": {},
   "source": [
    "### Containers with Nesting and Mixed Elements"
   ]
  },
  {
   "cell_type": "code",
   "execution_count": 37,
   "metadata": {},
   "outputs": [
    {
     "name": "stdout",
     "output_type": "stream",
     "text": [
      "X= [1, 'Foo', False, [1, 2, 3], (1, True)]\n"
     ]
    }
   ],
   "source": [
    "X = [1,\"Foo\",False,[1,2,3],(1,True)] #Lists can contain mixed types!\n",
    "print(\"X=\", X)                        #Print the list"
   ]
  },
  {
   "cell_type": "code",
   "execution_count": 38,
   "metadata": {},
   "outputs": [
    {
     "name": "stdout",
     "output_type": "stream",
     "text": [
      "True\n"
     ]
    }
   ],
   "source": [
    "#How can we get the second item in the tuple at the end of the list?\n",
    "print(X[-1][1])"
   ]
  },
  {
   "cell_type": "markdown",
   "metadata": {},
   "source": [
    "<hr>\n",
    "\n",
    "## Assignment Dynamics"
   ]
  },
  {
   "cell_type": "code",
   "execution_count": 39,
   "metadata": {},
   "outputs": [
    {
     "name": "stdout",
     "output_type": "stream",
     "text": [
      "A= 5 B= 5\n"
     ]
    }
   ],
   "source": [
    "A = 5  #Assign the object \"5\" to the name A\n",
    "B = A  #Assign the object that A refers to to the name B\n",
    "print(\"A=\",A,\"B=\",B )"
   ]
  },
  {
   "cell_type": "code",
   "execution_count": 40,
   "metadata": {},
   "outputs": [
    {
     "name": "stdout",
     "output_type": "stream",
     "text": [
      "A= 5 B= 7\n"
     ]
    }
   ],
   "source": [
    "B = 7               \n",
    "print(\"A=\",A,\"B=\",B)"
   ]
  },
  {
   "cell_type": "code",
   "execution_count": 41,
   "metadata": {},
   "outputs": [
    {
     "name": "stdout",
     "output_type": "stream",
     "text": [
      "A= [1, 2, 3, 4, 5] B= [1, 2, 3, 4, 5]\n"
     ]
    }
   ],
   "source": [
    "A = [1,2,3,4,5]\n",
    "B = A\n",
    "print(\"A=\",A,\"B=\",B )"
   ]
  },
  {
   "cell_type": "code",
   "execution_count": 42,
   "metadata": {},
   "outputs": [
    {
     "name": "stdout",
     "output_type": "stream",
     "text": [
      "A= [1, 2, 3, 4, 5] B= [5, 4, 3, 2, 1]\n"
     ]
    }
   ],
   "source": [
    "A = [1,2,3,4,5]\n",
    "B = A\n",
    "B = [5,4,3,2,1]        \n",
    "print (\"A=\",A,\"B=\",B ) "
   ]
  },
  {
   "cell_type": "code",
   "execution_count": 43,
   "metadata": {},
   "outputs": [
    {
     "name": "stdout",
     "output_type": "stream",
     "text": [
      "A= [1, 2, 3, 4, 5, 6, 7] B= [1, 2, 3, 4, 5, 6, 7]\n"
     ]
    }
   ],
   "source": [
    "A = [1,2,3,4,5]\n",
    "B=A\n",
    "A.append(6)\n",
    "B.append(7)\n",
    "print (\"A=\",A,\"B=\",B )"
   ]
  },
  {
   "cell_type": "code",
   "execution_count": 44,
   "metadata": {},
   "outputs": [
    {
     "name": "stdout",
     "output_type": "stream",
     "text": [
      "A= [-1, 2, 3, 4, 5] B= [-1, 2, 3, 4, 5]\n"
     ]
    }
   ],
   "source": [
    "A = [1,2,3,4,5]\n",
    "B = A\n",
    "B[0]=-1\n",
    "print (\"A=\",A,\"B=\",B)"
   ]
  },
  {
   "cell_type": "markdown",
   "metadata": {
    "collapsed": true
   },
   "source": [
    "<hr>\n",
    "\n",
    "## Basic Control Flow"
   ]
  },
  {
   "cell_type": "markdown",
   "metadata": {},
   "source": [
    "### If-Elif-Else"
   ]
  },
  {
   "cell_type": "code",
   "execution_count": 54,
   "metadata": {},
   "outputs": [
    {
     "name": "stdout",
     "output_type": "stream",
     "text": [
      "X is positive\n"
     ]
    }
   ],
   "source": [
    "#Basic If-Elif-Else\n",
    "X=5\n",
    "if(X<0):\n",
    "    print(\"X is negative\")\n",
    "elif(X==0):\n",
    "    print(\"X is zero\")\n",
    "else:\n",
    "    print(\"X is positive\")\n"
   ]
  },
  {
   "cell_type": "markdown",
   "metadata": {},
   "source": [
    "### For and While"
   ]
  },
  {
   "cell_type": "code",
   "execution_count": 45,
   "metadata": {},
   "outputs": [
    {
     "name": "stdout",
     "output_type": "stream",
     "text": [
      "0 1\n",
      "1 2\n",
      "2 3\n",
      "3 4\n",
      "4 5\n"
     ]
    }
   ],
   "source": [
    "#Basic for loop using range()\n",
    "A = [1, 2, 3, 4, 5]\n",
    "for i in range(len(A)): \n",
    "    print(i, A[i])"
   ]
  },
  {
   "cell_type": "code",
   "execution_count": 46,
   "metadata": {},
   "outputs": [
    {
     "name": "stdout",
     "output_type": "stream",
     "text": [
      "5\n",
      "4\n",
      "3\n",
      "2\n",
      "1\n"
     ]
    }
   ],
   "source": [
    "#Basic while loop\n",
    "x=5    \n",
    "while(x > 0):\n",
    "    print(x),\n",
    "    x-=1"
   ]
  },
  {
   "cell_type": "markdown",
   "metadata": {},
   "source": [
    "<hr>\n",
    "\n",
    "## Mathematical and Logical Operators"
   ]
  },
  {
   "cell_type": "code",
   "execution_count": 48,
   "metadata": {},
   "outputs": [
    {
     "name": "stdout",
     "output_type": "stream",
     "text": [
      "2**4= 16\n"
     ]
    }
   ],
   "source": [
    "print (\"2**4=\", 2**4 )  # Computing Powers"
   ]
  },
  {
   "cell_type": "code",
   "execution_count": 49,
   "metadata": {},
   "outputs": [
    {
     "name": "stdout",
     "output_type": "stream",
     "text": [
      "2/4= 0.5\n"
     ]
    }
   ],
   "source": [
    "print (\"2/4=\", 2/4 )    # \"True division\" of int by int\n",
    "\n",
    "# Note: the / operator for ints was \"floor division\" \n",
    "# in Python 2.x, so would give a result of 0 for this example"
   ]
  },
  {
   "cell_type": "code",
   "execution_count": 50,
   "metadata": {},
   "outputs": [
    {
     "name": "stdout",
     "output_type": "stream",
     "text": [
      "2//4= 0\n"
     ]
    }
   ],
   "source": [
    "print (\"2//4=\", 2//4 )  # \"Floor division\""
   ]
  },
  {
   "cell_type": "code",
   "execution_count": 51,
   "metadata": {},
   "outputs": [
    {
     "name": "stdout",
     "output_type": "stream",
     "text": [
      "2/4.= 0.5\n"
     ]
    }
   ],
   "source": [
    "print (\"2/4.=\", 2/4.)   # Division of int by float (True division)"
   ]
  },
  {
   "cell_type": "code",
   "execution_count": 52,
   "metadata": {},
   "outputs": [
    {
     "name": "stdout",
     "output_type": "stream",
     "text": [
      "2./4= 0.5\n"
     ]
    }
   ],
   "source": [
    "print (\"2./4=\", 2./4)   # Division of float by int"
   ]
  },
  {
   "cell_type": "code",
   "execution_count": 53,
   "metadata": {},
   "outputs": [
    {
     "name": "stdout",
     "output_type": "stream",
     "text": [
      "True or False= True\n"
     ]
    }
   ],
   "source": [
    "print (\"True or False=\", True or False) #Logical or"
   ]
  },
  {
   "cell_type": "code",
   "execution_count": 54,
   "metadata": {},
   "outputs": [
    {
     "name": "stdout",
     "output_type": "stream",
     "text": [
      "True and False= False\n"
     ]
    }
   ],
   "source": [
    "print (\"True and False=\", True and False) #Logical and"
   ]
  },
  {
   "cell_type": "code",
   "execution_count": 55,
   "metadata": {},
   "outputs": [
    {
     "name": "stdout",
     "output_type": "stream",
     "text": [
      "not(False)= True\n"
     ]
    }
   ],
   "source": [
    "print (\"not(False)=\", not(False)) #Logical not"
   ]
  },
  {
   "cell_type": "markdown",
   "metadata": {},
   "source": [
    "<hr>\n",
    "\n",
    "## Functions"
   ]
  },
  {
   "cell_type": "code",
   "execution_count": 56,
   "metadata": {},
   "outputs": [
    {
     "name": "stdout",
     "output_type": "stream",
     "text": [
      "f(2)= 4\n"
     ]
    }
   ],
   "source": [
    "def f(a):             #Define a basic function of 1-argument\n",
    "    return a**2\n",
    "\n",
    "print (\"f(2)=\",f(2))\n"
   ]
  },
  {
   "cell_type": "code",
   "execution_count": 57,
   "metadata": {},
   "outputs": [
    {
     "name": "stdout",
     "output_type": "stream",
     "text": [
      "g(f,2,3)= 13\n"
     ]
    }
   ],
   "source": [
    "def g(h,a,b):         #Define a function of 3-arguments where h is a function and a and b are numbers\n",
    "    return h(a)+h(b)\n",
    "\n",
    "print (\"g(f,2,3)=\",g(f,2,3))\n"
   ]
  },
  {
   "cell_type": "markdown",
   "metadata": {},
   "source": [
    "<hr>\n",
    "\n",
    "# Practice \n",
    "To get used to Python and working with Jupyter notebooks, fill in the following function signatures according to their specifications. I am not looking for complicated solutions--this should not take you more than 30 minutes."
   ]
  },
  {
   "cell_type": "code",
   "execution_count": 37,
   "metadata": {},
   "outputs": [],
   "source": [
    "# Your code goes here. Fill in rotate_list and reverse_dict.\n",
    "\n",
    "# rotate(l,n) takes a list l and an integer n, and returns a new list with the first n elements moved to the end.\n",
    "# Assume 0 <= n < len(l)\n",
    "def rotate_list(l, n):\n",
    "    endList = []\n",
    "    newList = []\n",
    "    for x in range(n):\n",
    "        endList.append(l[x])\n",
    "    for y in range(n,len(l)):\n",
    "        newList.append(l[y])\n",
    "    finalList = newList + endList\n",
    "    return finalList\n",
    "\n",
    "\n",
    "# reverse_dict(d) takes a dictionary d, and returns a new dictionary with the keys and values swapped.\n",
    "# Assume all values of the given dictionary are unique, i.e. don't worry about conflicting keys. \n",
    "def reverse_dict(d):\n",
    "    keys = d.keys()\n",
    "    values = d.values()\n",
    "    uDict = {}\n",
    "    for entry in d:\n",
    "        key = entry\n",
    "        value = d[entry]\n",
    "        uDict[value]=key\n",
    "    return uDict"
   ]
  },
  {
   "cell_type": "markdown",
   "metadata": {},
   "source": [
    "To test your code, I have provided unit tests in the cell below. If you change your code, you will need to rerun the tests to see the impact. "
   ]
  },
  {
   "cell_type": "code",
   "execution_count": 38,
   "metadata": {},
   "outputs": [
    {
     "name": "stderr",
     "output_type": "stream",
     "text": [
      "test_reverse_dict_test (__main__.TestNotebook) ... ok\n",
      "test_rotate_list (__main__.TestNotebook) ... ok\n",
      "\n",
      "----------------------------------------------------------------------\n",
      "Ran 2 tests in 0.001s\n",
      "\n",
      "OK\n"
     ]
    },
    {
     "data": {
      "text/plain": [
       "<unittest.main.TestProgram at 0x1f139cac340>"
      ]
     },
     "execution_count": 38,
     "metadata": {},
     "output_type": "execute_result"
    }
   ],
   "source": [
    "import unittest\n",
    "\n",
    "class TestNotebook(unittest.TestCase):\n",
    "    \n",
    "    def test_rotate_list(self):\n",
    "        self.assertEqual(rotate_list([1,2,3,4], 0), [1,2,3,4])\n",
    "        self.assertEqual(rotate_list([1,2,3,4], 1), [2,3,4,1])\n",
    "        self.assertEqual(rotate_list([1,2,3,4], 2), [3,4,1,2])\n",
    "        self.assertEqual(rotate_list([1,2,3,4], 3), [4,1,2,3])   \n",
    "\n",
    "    def test_reverse_dict_test(self):\n",
    "        self.assertEqual(reverse_dict({\"apple\" : \"red\", \"banana\" : \"yellow\"}), {\"red\" : \"apple\", \"yellow\" : \"banana\"})\n",
    "\n",
    "unittest.main(argv=[''], verbosity=2, exit=False)"
   ]
  },
  {
   "cell_type": "code",
   "execution_count": null,
   "metadata": {},
   "outputs": [],
   "source": []
  }
 ],
 "metadata": {
  "anaconda-cloud": {},
  "kernelspec": {
   "display_name": "Python 3 (ipykernel)",
   "language": "python",
   "name": "python3"
  },
  "language_info": {
   "codemirror_mode": {
    "name": "ipython",
    "version": 3
   },
   "file_extension": ".py",
   "mimetype": "text/x-python",
   "name": "python",
   "nbconvert_exporter": "python",
   "pygments_lexer": "ipython3",
   "version": "3.9.10"
  },
  "latex_envs": {
   "LaTeX_envs_menu_present": true,
   "autoclose": false,
   "autocomplete": true,
   "bibliofile": "biblio.bib",
   "cite_by": "apalike",
   "current_citInitial": 1,
   "eqLabelWithNumbers": true,
   "eqNumInitial": 1,
   "hotkeys": {
    "equation": "Ctrl-E",
    "itemize": "Ctrl-I"
   },
   "labels_anchors": false,
   "latex_user_defs": false,
   "report_style_numbering": false,
   "user_envs_cfg": false
  }
 },
 "nbformat": 4,
 "nbformat_minor": 1
}
